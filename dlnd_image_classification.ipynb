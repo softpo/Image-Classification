{
 "cells": [
  {
   "cell_type": "markdown",
   "metadata": {
    "collapsed": true,
    "deletable": true,
    "editable": true
   },
   "source": [
    "# Image Classification\n",
    "In this project, you'll classify images from the [CIFAR-10 dataset](https://www.cs.toronto.edu/~kriz/cifar.html).  The dataset consists of airplanes, dogs, cats, and other objects. You'll preprocess the images, then train a convolutional neural network on all the samples. The images need to be normalized and the labels need to be one-hot encoded.  You'll get to apply what you learned and build a convolutional, max pooling, dropout, and fully connected layers.  At the end, you'll get to see your neural network's predictions on the sample images.\n",
    "## Get the Data\n",
    "Run the following cell to download the [CIFAR-10 dataset for python](https://www.cs.toronto.edu/~kriz/cifar-10-python.tar.gz)."
   ]
  },
  {
   "cell_type": "code",
   "execution_count": 3,
   "metadata": {
    "collapsed": false,
    "deletable": true,
    "editable": true
   },
   "outputs": [
    {
     "name": "stderr",
     "output_type": "stream",
     "text": [
      "CIFAR-10 Dataset: 171MB [00:16, 10.4MB/s]                              "
     ]
    },
    {
     "name": "stdout",
     "output_type": "stream",
     "text": [
      "All files found!\n"
     ]
    },
    {
     "name": "stderr",
     "output_type": "stream",
     "text": [
      "\n"
     ]
    }
   ],
   "source": [
    "\"\"\"\n",
    "DON'T MODIFY ANYTHING IN THIS CELL THAT IS BELOW THIS LINE\n",
    "\"\"\"\n",
    "from urllib.request import urlretrieve\n",
    "from os.path import isfile, isdir\n",
    "from tqdm import tqdm\n",
    "import problem_unittests as tests\n",
    "import tarfile\n",
    "\n",
    "cifar10_dataset_folder_path = 'cifar-10-batches-py'\n",
    "\n",
    "class DLProgress(tqdm):\n",
    "    last_block = 0\n",
    "\n",
    "    def hook(self, block_num=1, block_size=1, total_size=None):\n",
    "        self.total = total_size\n",
    "        self.update((block_num - self.last_block) * block_size)\n",
    "        self.last_block = block_num\n",
    "\n",
    "if not isfile('cifar-10-python.tar.gz'):\n",
    "    with DLProgress(unit='B', unit_scale=True, miniters=1, desc='CIFAR-10 Dataset') as pbar:\n",
    "        urlretrieve(\n",
    "            'https://www.cs.toronto.edu/~kriz/cifar-10-python.tar.gz',\n",
    "            'cifar-10-python.tar.gz',\n",
    "            pbar.hook)\n",
    "\n",
    "if not isdir(cifar10_dataset_folder_path):\n",
    "    with tarfile.open('cifar-10-python.tar.gz') as tar:\n",
    "        tar.extractall()\n",
    "        tar.close()\n",
    "\n",
    "\n",
    "tests.test_folder_path(cifar10_dataset_folder_path)"
   ]
  },
  {
   "cell_type": "markdown",
   "metadata": {
    "deletable": true,
    "editable": true
   },
   "source": [
    "## Explore the Data\n",
    "The dataset is broken into batches to prevent your machine from running out of memory.  The CIFAR-10 dataset consists of 5 batches, named `data_batch_1`, `data_batch_2`, etc.. Each batch contains the labels and images that are one of the following:\n",
    "* airplane\n",
    "* automobile\n",
    "* bird\n",
    "* cat\n",
    "* deer\n",
    "* dog\n",
    "* frog\n",
    "* horse\n",
    "* ship\n",
    "* truck\n",
    "\n",
    "Understanding a dataset is part of making predictions on the data.  Play around with the code cell below by changing the `batch_id` and `sample_id`. The `batch_id` is the id for a batch (1-5). The `sample_id` is the id for a image and label pair in the batch.\n",
    "\n",
    "Ask yourself \"What are all possible labels?\", \"What is the range of values for the image data?\", \"Are the labels in order or random?\".  Answers to questions like these will help you preprocess the data and end up with better predictions."
   ]
  },
  {
   "cell_type": "code",
   "execution_count": 4,
   "metadata": {
    "collapsed": false,
    "deletable": true,
    "editable": true
   },
   "outputs": [
    {
     "name": "stdout",
     "output_type": "stream",
     "text": [
      "\n",
      "Stats of batch 1:\n",
      "Samples: 10000\n",
      "Label Counts: {0: 1005, 1: 974, 2: 1032, 3: 1016, 4: 999, 5: 937, 6: 1030, 7: 1001, 8: 1025, 9: 981}\n",
      "First 20 Labels: [6, 9, 9, 4, 1, 1, 2, 7, 8, 3, 4, 7, 7, 2, 9, 9, 9, 3, 2, 6]\n",
      "\n",
      "Example of Image 5:\n",
      "Image - Min Value: 0 Max Value: 252\n",
      "Image - Shape: (32, 32, 3)\n",
      "Label - Label Id: 1 Name: automobile\n"
     ]
    },
    {
     "data": {
      "image/png": "[encoded data removed]",
      "text/plain": [
       "<matplotlib.figure.Figure at 0x7f589a89f6d8>"
      ]
     },
     "metadata": {
      "image/png": {
       "height": 250,
       "width": 253
      }
     },
     "output_type": "display_data"
    }
   ],
   "source": [
    "%matplotlib inline\n",
    "%config InlineBackend.figure_format = 'retina'\n",
    "\n",
    "import helper\n",
    "import numpy as np\n",
    "\n",
    "# Explore the dataset\n",
    "batch_id = 1\n",
    "sample_id = 5\n",
    "helper.display_stats(cifar10_dataset_folder_path, batch_id, sample_id)"
   ]
  },
  {
   "cell_type": "markdown",
   "metadata": {
    "deletable": true,
    "editable": true
   },
   "source": [
    "## Implement Preprocess Functions\n",
    "### Normalize\n",
    "In the cell below, implement the `normalize` function to take in image data, `x`, and return it as a normalized Numpy array. The values should be in the range of 0 to 1, inclusive.  The return object should be the same shape as `x`."
   ]
  },
  {
   "cell_type": "code",
   "execution_count": 5,
   "metadata": {
    "collapsed": false,
    "deletable": true,
    "editable": true
   },
   "outputs": [
    {
     "name": "stdout",
     "output_type": "stream",
     "text": [
      "Tests Passed\n"
     ]
    }
   ],
   "source": [
    "def normalize(x):\n",
    "    \"\"\"\n",
    "    Normalize a list of sample image data in the range of 0 to 1\n",
    "    : x: List of image data.  The image shape is (32, 32, 3)\n",
    "    : return: Numpy array of normalize data\n",
    "    \"\"\"\n",
    "    # TODO: Implement Function\n",
    "    scale_max = 255\n",
    "    scale_min = 0\n",
    "    return (x-scale_min)/(scale_max-scale_min)\n",
    "\n",
    "\n",
    "\"\"\"\n",
    "DON'T MODIFY ANYTHING IN THIS CELL THAT IS BELOW THIS LINE\n",
    "\"\"\"\n",
    "tests.test_normalize(normalize)"
   ]
  },
  {
   "cell_type": "markdown",
   "metadata": {
    "deletable": true,
    "editable": true
   },
   "source": [
    "### One-hot encode\n",
    "Just like the previous code cell, you'll be implementing a function for preprocessing.  This time, you'll implement the `one_hot_encode` function. The input, `x`, are a list of labels.  Implement the function to return the list of labels as One-Hot encoded Numpy array.  The possible values for labels are 0 to 9. The one-hot encoding function should return the same encoding for each value between each call to `one_hot_encode`.  Make sure to save the map of encodings outside the function.\n",
    "\n",
    "Hint: Don't reinvent the wheel."
   ]
  },
  {
   "cell_type": "code",
   "execution_count": 6,
   "metadata": {
    "collapsed": false,
    "deletable": true,
    "editable": true
   },
   "outputs": [
    {
     "name": "stdout",
     "output_type": "stream",
     "text": [
      "Tests Passed\n"
     ]
    }
   ],
   "source": [
    "from sklearn import preprocessing\n",
    "enc = preprocessing.LabelBinarizer()\n",
    "enc.fit([i for i in range(0,10)])\n",
    "\n",
    "def one_hot_encode(x):\n",
    "    \"\"\"\n",
    "    One hot encode a list of sample labels. Return a one-hot encoded vector for each label.\n",
    "    : x: List of sample Labels\n",
    "    : return: Numpy array of one-hot encoded labels\n",
    "    \"\"\"\n",
    "    # TODO: Implement Function\n",
    "    return enc.transform(x)\n",
    "\n",
    "\"\"\"\n",
    "DON'T MODIFY ANYTHING IN THIS CELL THAT IS BELOW THIS LINE\n",
    "\"\"\"\n",
    "tests.test_one_hot_encode(one_hot_encode)"
   ]
  },
  {
   "cell_type": "markdown",
   "metadata": {
    "deletable": true,
    "editable": true
   },
   "source": [
    "### Randomize Data\n",
    "As you saw from exploring the data above, the order of the samples are randomized.  It doesn't hurt to randomize it again, but you don't need to for this dataset."
   ]
  },
  {
   "cell_type": "markdown",
   "metadata": {
    "deletable": true,
    "editable": true
   },
   "source": [
    "## Preprocess all the data and save it\n",
    "Running the code cell below will preprocess all the CIFAR-10 data and save it to file. The code below also uses 10% of the training data for validation."
   ]
  },
  {
   "cell_type": "code",
   "execution_count": 7,
   "metadata": {
    "collapsed": false,
    "deletable": true,
    "editable": true
   },
   "outputs": [],
   "source": [
    "\"\"\"\n",
    "DON'T MODIFY ANYTHING IN THIS CELL\n",
    "\"\"\"\n",
    "# Preprocess Training, Validation, and Testing Data\n",
    "helper.preprocess_and_save_data(cifar10_dataset_folder_path, normalize, one_hot_encode)"
   ]
  },
  {
   "cell_type": "markdown",
   "metadata": {
    "deletable": true,
    "editable": true
   },
   "source": [
    "# Check Point\n",
    "This is your first checkpoint.  If you ever decide to come back to this notebook or have to restart the notebook, you can start from here.  The preprocessed data has been saved to disk."
   ]
  },
  {
   "cell_type": "code",
   "execution_count": 1,
   "metadata": {
    "collapsed": true,
    "deletable": true,
    "editable": true
   },
   "outputs": [],
   "source": [
    "\"\"\"\n",
    "DON'T MODIFY ANYTHING IN THIS CELL\n",
    "\"\"\"\n",
    "import pickle\n",
    "import problem_unittests as tests\n",
    "import helper\n",
    "\n",
    "# Load the Preprocessed Validation data\n",
    "valid_features, valid_labels = pickle.load(open('preprocess_validation.p', mode='rb'))"
   ]
  },
  {
   "cell_type": "markdown",
   "metadata": {
    "deletable": true,
    "editable": true
   },
   "source": [
    "## Build the network\n",
    "For the neural network, you'll build each layer into a function.  Most of the code you've seen has been outside of functions. To test your code more thoroughly, we require that you put each layer in a function.  This allows us to give you better feedback and test for simple mistakes using our unittests before you submit your project.\n",
    "\n",
    "If you're finding it hard to dedicate enough time for this course a week, we've provided a small shortcut to this part of the project. In the next couple of problems, you'll have the option to use [TensorFlow Layers](https://www.tensorflow.org/api_docs/python/tf/layers) or [TensorFlow Layers (contrib)](https://www.tensorflow.org/api_guides/python/contrib.layers) to build each layer, except \"Convolutional & Max Pooling\" layer.  TF Layers is similar to Keras's and TFLearn's abstraction to layers, so it's easy to pickup.\n",
    "\n",
    "If you would like to get the most of this course, try to solve all the problems without TF Layers.  Let's begin!\n",
    "### Input\n",
    "The neural network needs to read the image data, one-hot encoded labels, and dropout keep probability. Implement the following functions\n",
    "* Implement `neural_net_image_input`\n",
    " * Return a [TF Placeholder](https://www.tensorflow.org/api_docs/python/tf/placeholder)\n",
    " * Set the shape using `image_shape` with batch size set to `None`.\n",
    " * Name the TensorFlow placeholder \"x\" using the TensorFlow `name` parameter in the [TF Placeholder](https://www.tensorflow.org/api_docs/python/tf/placeholder).\n",
    "* Implement `neural_net_label_input`\n",
    " * Return a [TF Placeholder](https://www.tensorflow.org/api_docs/python/tf/placeholder)\n",
    " * Set the shape using `n_classes` with batch size set to `None`.\n",
    " * Name the TensorFlow placeholder \"y\" using the TensorFlow `name` parameter in the [TF Placeholder](https://www.tensorflow.org/api_docs/python/tf/placeholder).\n",
    "* Implement `neural_net_keep_prob_input`\n",
    " * Return a [TF Placeholder](https://www.tensorflow.org/api_docs/python/tf/placeholder) for dropout keep probability.\n",
    " * Name the TensorFlow placeholder \"keep_prob\" using the TensorFlow `name` parameter in the [TF Placeholder](https://www.tensorflow.org/api_docs/python/tf/placeholder).\n",
    "\n",
    "These names will be used at the end of the project to load your saved model.\n",
    "\n",
    "Note: `None` for shapes in TensorFlow allow for a dynamic size."
   ]
  },
  {
   "cell_type": "code",
   "execution_count": 2,
   "metadata": {
    "collapsed": false,
    "deletable": true,
    "editable": true
   },
   "outputs": [
    {
     "name": "stdout",
     "output_type": "stream",
     "text": [
      "Image Input Tests Passed.\n",
      "Label Input Tests Passed.\n",
      "Keep Prob Tests Passed.\n"
     ]
    }
   ],
   "source": [
    "import tensorflow as tf\n",
    "\n",
    "def neural_net_image_input(image_shape):\n",
    "    \"\"\"\n",
    "    Return a Tensor for a bach of image input\n",
    "    : image_shape: Shape of the images\n",
    "    : return: Tensor for image input.\n",
    "    \"\"\"\n",
    "    # TODO: Implement Function\n",
    "    return tf.placeholder(tf.float32, shape=[None, image_shape[0], image_shape[1], image_shape[2]], name='x')\n",
    "\n",
    "\n",
    "def neural_net_label_input(n_classes):\n",
    "    \"\"\"\n",
    "    Return a Tensor for a batch of label input\n",
    "    : n_classes: Number of classes\n",
    "    : return: Tensor for label input.\n",
    "    \"\"\"\n",
    "    # TODO: Implement Function\n",
    "    return tf.placeholder(tf.float32, shape=[None, n_classes], name='y')\n",
    "\n",
    "\n",
    "def neural_net_keep_prob_input():\n",
    "    \"\"\"\n",
    "    Return a Tensor for keep probability\n",
    "    : return: Tensor for keep probability.\n",
    "    \"\"\"\n",
    "    # TODO: Implement Function\n",
    "    return tf.placeholder(tf.float32, name='keep_prob')\n",
    "\n",
    "\n",
    "\"\"\"\n",
    "DON'T MODIFY ANYTHING IN THIS CELL THAT IS BELOW THIS LINE\n",
    "\"\"\"\n",
    "tf.reset_default_graph()\n",
    "tests.test_nn_image_inputs(neural_net_image_input)\n",
    "tests.test_nn_label_inputs(neural_net_label_input)\n",
    "tests.test_nn_keep_prob_inputs(neural_net_keep_prob_input)"
   ]
  },
  {
   "cell_type": "markdown",
   "metadata": {
    "deletable": true,
    "editable": true
   },
   "source": [
    "### Convolution and Max Pooling Layer\n",
    "Convolution layers have a lot of success with images. For this code cell, you should implement the function `conv2d_maxpool` to apply convolution then max pooling:\n",
    "* Create the weight and bias using `conv_ksize`, `conv_num_outputs` and the shape of `x_tensor`.\n",
    "* Apply a convolution to `x_tensor` using weight and `conv_strides`.\n",
    " * We recommend you use same padding, but you're welcome to use any padding.\n",
    "* Add bias\n",
    "* Add a nonlinear activation to the convolution.\n",
    "* Apply Max Pooling using `pool_ksize` and `pool_strides`.\n",
    " * We recommend you use same padding, but you're welcome to use any padding.\n",
    "\n",
    "Note: You **can't** use [TensorFlow Layers](https://www.tensorflow.org/api_docs/python/tf/layers) or [TensorFlow Layers (contrib)](https://www.tensorflow.org/api_guides/python/contrib.layers) for this layer.  You're free to use any TensorFlow package for all the other layers."
   ]
  },
  {
   "cell_type": "code",
   "execution_count": 3,
   "metadata": {
    "collapsed": false,
    "deletable": true,
    "editable": true
   },
   "outputs": [
    {
     "name": "stdout",
     "output_type": "stream",
     "text": [
      "Tests Passed\n"
     ]
    }
   ],
   "source": [
    "def conv2d_maxpool(x_tensor, conv_num_outputs, conv_ksize, conv_strides, pool_ksize, pool_strides):\n",
    "    \"\"\"\n",
    "    Apply convolution then max pooling to x_tensor\n",
    "    :param x_tensor: TensorFlow Tensor\n",
    "    :param conv_num_outputs: Number of outputs for the convolutional layer\n",
    "    :param conv_strides: Stride 2-D Tuple for convolution\n",
    "    :param pool_ksize: kernal size 2-D Tuple for pool\n",
    "    :param pool_strides: Stride 2-D Tuple for pool\n",
    "    : return: A tensor that represents convolution and max pooling of x_tensor\n",
    "    \"\"\"\n",
    "    # TODO: Implement Function\n",
    "    filter_height = conv_ksize[0]\n",
    "    filter_width = conv_ksize[1]\n",
    "    in_depth = x_tensor.get_shape().as_list()[3]\n",
    "    out_depth = conv_num_outputs\n",
    "    \n",
    "    ''' \n",
    "    Reference:  He et al. 2015, http://arxiv.org/abs/1502.01852\n",
    "    '''\n",
    "    initi_weight_std = (2. / (filter_height*filter_width*in_depth))**0.5\n",
    "  \n",
    "    weights = tf.Variable(tf.truncated_normal([filter_height, filter_width, in_depth, out_depth], \n",
    "                                              mean = 0.0, stddev = initi_weight_std))\n",
    "    biases = tf.Variable(tf.zeros(conv_num_outputs))\n",
    "    \n",
    "    conv_layer_out = tf.nn.bias_add(tf.nn.conv2d(x_tensor, weights, \n",
    "                                                 strides=[1, conv_strides[0], conv_strides[1], 1], padding='SAME'), \n",
    "                                                 biases)\n",
    "    activation_conv_layer_out = tf.nn.relu(conv_layer_out)\n",
    "    maxpooling_out = tf.nn.max_pool(activation_conv_layer_out, \n",
    "                                    ksize=[1, pool_ksize[0], pool_ksize[1], 1], \n",
    "                                    strides=[1, pool_strides[0], pool_strides[1], 1], \n",
    "                                    padding='SAME')\n",
    "    return maxpooling_out\n",
    "\n",
    "\"\"\"\n",
    "DON'T MODIFY ANYTHING IN THIS CELL THAT IS BELOW THIS LINE\n",
    "\"\"\"\n",
    "tests.test_con_pool(conv2d_maxpool)"
   ]
  },
  {
   "cell_type": "markdown",
   "metadata": {
    "deletable": true,
    "editable": true
   },
   "source": [
    "### Flatten Layer\n",
    "Implement the `flatten` function to change the dimension of `x_tensor` from a 4-D tensor to a 2-D tensor.  The output should be the shape (*Batch Size*, *Flattened Image Size*). You can use [TensorFlow Layers](https://www.tensorflow.org/api_docs/python/tf/layers) or [TensorFlow Layers (contrib)](https://www.tensorflow.org/api_guides/python/contrib.layers) for this layer."
   ]
  },
  {
   "cell_type": "code",
   "execution_count": 4,
   "metadata": {
    "collapsed": false,
    "deletable": true,
    "editable": true
   },
   "outputs": [
    {
     "name": "stdout",
     "output_type": "stream",
     "text": [
      "Tests Passed\n"
     ]
    }
   ],
   "source": [
    "def flatten(x_tensor):\n",
    "    \"\"\"\n",
    "    Flatten x_tensor to (Batch Size, Flattened Image Size)\n",
    "    : x_tensor: A tensor of size (Batch Size, ...), where ... are the image dimensions.\n",
    "    : return: A tensor of size (Batch Size, Flattened Image Size).\n",
    "    \"\"\"\n",
    "    # TODO: Implement Function\n",
    "    x_dim = x_tensor.get_shape().as_list()\n",
    "    return tf.reshape(x_tensor, [-1, x_dim[1]*x_dim[2]*x_dim[3]])\n",
    "\n",
    "\n",
    "\"\"\"\n",
    "DON'T MODIFY ANYTHING IN THIS CELL THAT IS BELOW THIS LINE\n",
    "\"\"\"\n",
    "tests.test_flatten(flatten)"
   ]
  },
  {
   "cell_type": "markdown",
   "metadata": {
    "deletable": true,
    "editable": true
   },
   "source": [
    "### Fully-Connected Layer\n",
    "Implement the `fully_conn` function to apply a fully connected layer to `x_tensor` with the shape (*Batch Size*, *num_outputs*). You can use [TensorFlow Layers](https://www.tensorflow.org/api_docs/python/tf/layers) or [TensorFlow Layers (contrib)](https://www.tensorflow.org/api_guides/python/contrib.layers) for this layer."
   ]
  },
  {
   "cell_type": "code",
   "execution_count": 5,
   "metadata": {
    "collapsed": false,
    "deletable": true,
    "editable": true
   },
   "outputs": [
    {
     "name": "stdout",
     "output_type": "stream",
     "text": [
      "Tests Passed\n"
     ]
    }
   ],
   "source": [
    "def fully_conn(x_tensor, num_outputs):\n",
    "    \"\"\"\n",
    "    Apply a fully connected layer to x_tensor using weight and bias\n",
    "    : x_tensor: A 2-D tensor where the first dimension is batch size.\n",
    "    : num_outputs: The number of output that the new tensor should be.\n",
    "    : return: A 2-D tensor where the second dimension is num_outputs.\n",
    "    \"\"\"\n",
    "    # TODO: Implement Function\n",
    "    input_size = x_tensor.get_shape().as_list()[1]\n",
    "    output_size = num_outputs \n",
    "    \n",
    "    ''' \n",
    "    Reference:  He et al. 2015, http://arxiv.org/abs/1502.01852\n",
    "    '''\n",
    "    initi_weight_std = (2. / input_size)**0.5    \n",
    "    \n",
    "    weights = tf.Variable(tf.truncated_normal([input_size, output_size], mean = 0.0, stddev = initi_weight_std))\n",
    "    biases = tf.Variable(tf.zeros(num_outputs))\n",
    "    fc_out = tf.add(tf.matmul(x_tensor, weights), biases)\n",
    "    fc_out = tf.nn.relu(fc_out)\n",
    "    return fc_out\n",
    "\n",
    "\"\"\"\n",
    "DON'T MODIFY ANYTHING IN THIS CELL THAT IS BELOW THIS LINE\n",
    "\"\"\"\n",
    "tests.test_fully_conn(fully_conn)"
   ]
  },
  {
   "cell_type": "markdown",
   "metadata": {
    "deletable": true,
    "editable": true
   },
   "source": [
    "### Output Layer\n",
    "Implement the `output` function to apply a fully connected layer to `x_tensor` with the shape (*Batch Size*, *num_outputs*). You can use [TensorFlow Layers](https://www.tensorflow.org/api_docs/python/tf/layers) or [TensorFlow Layers (contrib)](https://www.tensorflow.org/api_guides/python/contrib.layers) for this layer.\n",
    "\n",
    "Note: Activation, softmax, or cross entropy shouldn't be applied to this."
   ]
  },
  {
   "cell_type": "code",
   "execution_count": 6,
   "metadata": {
    "collapsed": false,
    "deletable": true,
    "editable": true
   },
   "outputs": [
    {
     "name": "stdout",
     "output_type": "stream",
     "text": [
      "Tests Passed\n"
     ]
    }
   ],
   "source": [
    "def output(x_tensor, num_outputs):\n",
    "    \"\"\"\n",
    "    Apply a output layer to x_tensor using weight and bias\n",
    "    : x_tensor: A 2-D tensor where the first dimension is batch size.\n",
    "    : num_outputs: The number of output that the new tensor should be.\n",
    "    : return: A 2-D tensor where the second dimension is num_outputs.\n",
    "    \"\"\"\n",
    "    # TODO: Implement Function\n",
    "    input_size = x_tensor.get_shape().as_list()[1]\n",
    "    output_size = num_outputs\n",
    "    ''' \n",
    "    Reference:  He et al. 2015, http://arxiv.org/abs/1502.01852\n",
    "    '''\n",
    "    initi_weight_std = (2. / input_size)**0.5      \n",
    "    \n",
    "    weights = tf.Variable(tf.truncated_normal([input_size, output_size], mean = 0.0, stddev = initi_weight_std))\n",
    "    biases = tf.Variable(tf.zeros(num_outputs))    \n",
    "    out = tf.add(tf.matmul(x_tensor, weights), biases)\n",
    "    return out\n",
    "\n",
    "\n",
    "\"\"\"\n",
    "DON'T MODIFY ANYTHING IN THIS CELL THAT IS BELOW THIS LINE\n",
    "\"\"\"\n",
    "tests.test_output(output)"
   ]
  },
  {
   "cell_type": "markdown",
   "metadata": {
    "deletable": true,
    "editable": true
   },
   "source": [
    "### Create Convolutional Model\n",
    "Implement the function `conv_net` to create a convolutional neural network model. The function takes in a batch of images, `x`, and outputs logits.  Use the layers you created above to create this model:\n",
    "\n",
    "* Apply 1, 2, or 3 Convolution and Max Pool layers\n",
    "* Apply a Flatten Layer\n",
    "* Apply 1, 2, or 3 Fully Connected Layers\n",
    "* Apply an Output Layer\n",
    "* Return the output\n",
    "* Apply [TensorFlow's Dropout](https://www.tensorflow.org/api_docs/python/tf/nn/dropout) to one or more layers in the model using `keep_prob`. "
   ]
  },
  {
   "cell_type": "code",
   "execution_count": 7,
   "metadata": {
    "collapsed": false,
    "deletable": true,
    "editable": true
   },
   "outputs": [
    {
     "name": "stdout",
     "output_type": "stream",
     "text": [
      "Neural Network Built!\n"
     ]
    }
   ],
   "source": [
    "def conv_net(x, keep_prob):\n",
    "    \"\"\"\n",
    "    Create a convolutional neural network model\n",
    "    : x: Placeholder tensor that holds image data.\n",
    "    : keep_prob: Placeholder tensor that hold dropout keep probability.\n",
    "    : return: Tensor that represents logits\n",
    "    \"\"\"\n",
    "    # TODO: Apply 1, 2, or 3 Convolution and Max Pool layers\n",
    "    #    Play around with different number of outputs, kernel size and stride\n",
    "    # Function Definition from Above:\n",
    "    #    conv2d_maxpool(x_tensor, conv_num_outputs, conv_ksize, conv_strides, pool_ksize, pool_strides)\n",
    "    conv_maxpool_output_first = conv2d_maxpool(x, \n",
    "                                               conv_num_outputs = 64, \n",
    "                                               conv_ksize = [3, 3], \n",
    "                                               conv_strides = [1, 1], \n",
    "                                               pool_ksize = [2, 2], \n",
    "                                               pool_strides = [2, 2])\n",
    "    conv_maxpool_output_second = conv2d_maxpool(conv_maxpool_output_first, \n",
    "                                                conv_num_outputs = 128, \n",
    "                                                conv_ksize = [3, 3], \n",
    "                                                conv_strides = [1, 1], \n",
    "                                                pool_ksize = [2, 2], \n",
    "                                                pool_strides = [2, 2])\n",
    "    conv_maxpool_output_third = conv2d_maxpool(conv_maxpool_output_second, \n",
    "                                                conv_num_outputs = 256, \n",
    "                                                conv_ksize = [3, 3], \n",
    "                                                conv_strides = [1, 1], \n",
    "                                                pool_ksize = [2, 2], \n",
    "                                                pool_strides = [2, 2])    \n",
    "    # TODO: Apply a Flatten Layer\n",
    "    # Function Definition from Above:\n",
    "    #   flatten(x_tensor)\n",
    "    flatten_conv_maxpool_output = flatten(conv_maxpool_output_third)\n",
    "\n",
    "    # TODO: Apply 1, 2, or 3 Fully Connected Layers\n",
    "    #    Play around with different number of outputs\n",
    "    # Function Definition from Above:\n",
    "    #   fully_conn(x_tensor, num_outputs)\n",
    "    fc_output_first = fully_conn(flatten_conv_maxpool_output, num_outputs = 256)\n",
    "    fc_output_first = tf.nn.dropout(fc_output_first, keep_prob)\n",
    "    fc_output_second = fully_conn(fc_output_first, num_outputs = 512)\n",
    "    fc_output_second = tf.nn.dropout(fc_output_second, keep_prob)\n",
    "    \n",
    "    # TODO: Apply an Output Layer\n",
    "    #    Set this to the number of classes\n",
    "    # Function Definition from Above:\n",
    "    #   output(x_tensor, num_outputs)\n",
    "    final_output = output(fc_output_second, num_outputs = 10)\n",
    "    \n",
    "    # TODO: return output\n",
    "    return final_output\n",
    "\n",
    "\n",
    "\"\"\"\n",
    "DON'T MODIFY ANYTHING IN THIS CELL THAT IS BELOW THIS LINE\n",
    "\"\"\"\n",
    "\n",
    "##############################\n",
    "## Build the Neural Network ##\n",
    "##############################\n",
    "\n",
    "# Remove previous weights, bias, inputs, etc..\n",
    "tf.reset_default_graph()\n",
    "\n",
    "# Inputs\n",
    "x = neural_net_image_input((32, 32, 3))\n",
    "y = neural_net_label_input(10)\n",
    "keep_prob = neural_net_keep_prob_input()\n",
    "\n",
    "# Model\n",
    "logits = conv_net(x, keep_prob)\n",
    "\n",
    "# Name logits Tensor, so that is can be loaded from disk after training\n",
    "logits = tf.identity(logits, name='logits')\n",
    "\n",
    "# Loss and Optimizer\n",
    "cost = tf.reduce_mean(tf.nn.softmax_cross_entropy_with_logits(logits=logits, labels=y))\n",
    "optimizer = tf.train.AdamOptimizer().minimize(cost)\n",
    "\n",
    "# Accuracy\n",
    "correct_pred = tf.equal(tf.argmax(logits, 1), tf.argmax(y, 1))\n",
    "accuracy = tf.reduce_mean(tf.cast(correct_pred, tf.float32), name='accuracy')\n",
    "\n",
    "tests.test_conv_net(conv_net)"
   ]
  },
  {
   "cell_type": "markdown",
   "metadata": {
    "deletable": true,
    "editable": true
   },
   "source": [
    "## Train the Neural Network\n",
    "### Single Optimization\n",
    "Implement the function `train_neural_network` to do a single optimization.  The optimization should use `optimizer` to optimize in `session` with a `feed_dict` of the following:\n",
    "* `x` for image input\n",
    "* `y` for labels\n",
    "* `keep_prob` for keep probability for dropout\n",
    "\n",
    "This function will be called for each batch, so `tf.global_variables_initializer()` has already been called.\n",
    "\n",
    "Note: Nothing needs to be returned. This function is only optimizing the neural network."
   ]
  },
  {
   "cell_type": "code",
   "execution_count": 8,
   "metadata": {
    "collapsed": false,
    "deletable": true,
    "editable": true
   },
   "outputs": [
    {
     "name": "stdout",
     "output_type": "stream",
     "text": [
      "Tests Passed\n"
     ]
    }
   ],
   "source": [
    "def train_neural_network(session, optimizer, keep_probability, feature_batch, label_batch):\n",
    "    \"\"\"\n",
    "    Optimize the session on a batch of images and labels\n",
    "    : session: Current TensorFlow session\n",
    "    : optimizer: TensorFlow optimizer function\n",
    "    : keep_probability: keep probability\n",
    "    : feature_batch: Batch of Numpy image data\n",
    "    : label_batch: Batch of Numpy label data\n",
    "    \"\"\"\n",
    "    # TODO: Implement Function\n",
    "    session.run(optimizer, feed_dict={x: feature_batch, y: label_batch, keep_prob: keep_probability})    \n",
    "\n",
    "\"\"\"\n",
    "DON'T MODIFY ANYTHING IN THIS CELL THAT IS BELOW THIS LINE\n",
    "\"\"\"\n",
    "tests.test_train_nn(train_neural_network)"
   ]
  },
  {
   "cell_type": "markdown",
   "metadata": {
    "deletable": true,
    "editable": true
   },
   "source": [
    "### Show Stats\n",
    "Implement the function `print_stats` to print loss and validation accuracy.  Use the global variables `valid_features` and `valid_labels` to calculate validation accuracy.  Use a keep probability of `1.0` to calculate the loss and validation accuracy."
   ]
  },
  {
   "cell_type": "code",
   "execution_count": 9,
   "metadata": {
    "collapsed": false,
    "deletable": true,
    "editable": true
   },
   "outputs": [],
   "source": [
    "def print_stats(session, feature_batch, label_batch, cost, accuracy):\n",
    "    \"\"\"\n",
    "    Print information about loss and validation accuracy\n",
    "    : session: Current TensorFlow session\n",
    "    : feature_batch: Batch of Numpy image data\n",
    "    : label_batch: Batch of Numpy label data\n",
    "    : cost: TensorFlow cost function\n",
    "    : accuracy: TensorFlow accuracy function\n",
    "    \"\"\"\n",
    "    # TODO: Implement Function\n",
    "    loss = session.run(cost, feed_dict={x: feature_batch, y: label_batch, keep_prob: 1.})\n",
    "    valid_acc = session.run(accuracy, feed_dict={x: valid_features, y: valid_labels, keep_prob: 1.})\n",
    "    print('Loss: {:>10.4f}, Validation Accuracy: {:.6f}'.format(loss, valid_acc))\n",
    "\n",
    "# Accuracy\n",
    "correct_pred = tf.equal(tf.argmax(logits, 1), tf.argmax(y, 1))\n",
    "accuracy = tf.reduce_mean(tf.cast(correct_pred, tf.float32))"
   ]
  },
  {
   "cell_type": "markdown",
   "metadata": {
    "deletable": true,
    "editable": true
   },
   "source": [
    "### Hyperparameters\n",
    "Tune the following parameters:\n",
    "* Set `epochs` to the number of iterations until the network stops learning or start overfitting\n",
    "* Set `batch_size` to the highest number that your machine has memory for.  Most people set them to common sizes of memory:\n",
    " * 64\n",
    " * 128\n",
    " * 256\n",
    " * ...\n",
    "* Set `keep_probability` to the probability of keeping a node using dropout"
   ]
  },
  {
   "cell_type": "code",
   "execution_count": 10,
   "metadata": {
    "collapsed": true,
    "deletable": true,
    "editable": true
   },
   "outputs": [],
   "source": [
    "# TODO: Tune Parameters\n",
    "epochs = 50\n",
    "batch_size = 128\n",
    "keep_probability = 0.5"
   ]
  },
  {
   "cell_type": "markdown",
   "metadata": {
    "deletable": true,
    "editable": true
   },
   "source": [
    "### Train on a Single CIFAR-10 Batch\n",
    "Instead of training the neural network on all the CIFAR-10 batches of data, let's use a single batch. This should save time while you iterate on the model to get a better accuracy.  Once the final validation accuracy is 50% or greater, run the model on all the data in the next section."
   ]
  },
  {
   "cell_type": "code",
   "execution_count": 23,
   "metadata": {
    "collapsed": false,
    "deletable": true,
    "editable": true
   },
   "outputs": [
    {
     "name": "stdout",
     "output_type": "stream",
     "text": [
      "Checking the Training on a Single Batch...\n",
      "Epoch  1, CIFAR-10 Batch 1:  Loss:     2.0293, Validation Accuracy: 0.324800\n",
      "Epoch  2, CIFAR-10 Batch 1:  Loss:     1.7377, Validation Accuracy: 0.434400\n",
      "Epoch  3, CIFAR-10 Batch 1:  Loss:     1.4160, Validation Accuracy: 0.487400\n",
      "Epoch  4, CIFAR-10 Batch 1:  Loss:     1.2254, Validation Accuracy: 0.511600\n",
      "Epoch  5, CIFAR-10 Batch 1:  Loss:     1.1267, Validation Accuracy: 0.521000\n",
      "Epoch  6, CIFAR-10 Batch 1:  Loss:     0.9971, Validation Accuracy: 0.527800\n",
      "Epoch  7, CIFAR-10 Batch 1:  Loss:     0.8272, Validation Accuracy: 0.570200\n",
      "Epoch  8, CIFAR-10 Batch 1:  Loss:     0.6822, Validation Accuracy: 0.581600\n",
      "Epoch  9, CIFAR-10 Batch 1:  Loss:     0.5588, Validation Accuracy: 0.586800\n",
      "Epoch 10, CIFAR-10 Batch 1:  Loss:     0.4832, Validation Accuracy: 0.579200\n",
      "Epoch 11, CIFAR-10 Batch 1:  Loss:     0.3809, Validation Accuracy: 0.607600\n",
      "Epoch 12, CIFAR-10 Batch 1:  Loss:     0.3233, Validation Accuracy: 0.607000\n",
      "Epoch 13, CIFAR-10 Batch 1:  Loss:     0.2486, Validation Accuracy: 0.613000\n",
      "Epoch 14, CIFAR-10 Batch 1:  Loss:     0.1754, Validation Accuracy: 0.613200\n",
      "Epoch 15, CIFAR-10 Batch 1:  Loss:     0.1879, Validation Accuracy: 0.625000\n",
      "Epoch 16, CIFAR-10 Batch 1:  Loss:     0.0946, Validation Accuracy: 0.630200\n",
      "Epoch 17, CIFAR-10 Batch 1:  Loss:     0.1442, Validation Accuracy: 0.623200\n",
      "Epoch 18, CIFAR-10 Batch 1:  Loss:     0.0808, Validation Accuracy: 0.634800\n",
      "Epoch 19, CIFAR-10 Batch 1:  Loss:     0.0666, Validation Accuracy: 0.629600\n",
      "Epoch 20, CIFAR-10 Batch 1:  Loss:     0.0736, Validation Accuracy: 0.629600\n",
      "Epoch 21, CIFAR-10 Batch 1:  Loss:     0.0598, Validation Accuracy: 0.630000\n",
      "Epoch 22, CIFAR-10 Batch 1:  Loss:     0.0387, Validation Accuracy: 0.615200\n",
      "Epoch 23, CIFAR-10 Batch 1:  Loss:     0.0351, Validation Accuracy: 0.614800\n",
      "Epoch 24, CIFAR-10 Batch 1:  Loss:     0.0320, Validation Accuracy: 0.621000\n",
      "Epoch 25, CIFAR-10 Batch 1:  Loss:     0.0387, Validation Accuracy: 0.623000\n",
      "Epoch 26, CIFAR-10 Batch 1:  Loss:     0.0178, Validation Accuracy: 0.632600\n",
      "Epoch 27, CIFAR-10 Batch 1:  Loss:     0.0069, Validation Accuracy: 0.635200\n",
      "Epoch 28, CIFAR-10 Batch 1:  Loss:     0.0074, Validation Accuracy: 0.618400\n",
      "Epoch 29, CIFAR-10 Batch 1:  Loss:     0.0049, Validation Accuracy: 0.642800\n",
      "Epoch 30, CIFAR-10 Batch 1:  Loss:     0.0073, Validation Accuracy: 0.632000\n",
      "Epoch 31, CIFAR-10 Batch 1:  Loss:     0.0074, Validation Accuracy: 0.648200\n",
      "Epoch 32, CIFAR-10 Batch 1:  Loss:     0.0045, Validation Accuracy: 0.638400\n",
      "Epoch 33, CIFAR-10 Batch 1:  Loss:     0.0016, Validation Accuracy: 0.632600\n",
      "Epoch 34, CIFAR-10 Batch 1:  Loss:     0.0010, Validation Accuracy: 0.631600\n",
      "Epoch 35, CIFAR-10 Batch 1:  Loss:     0.0007, Validation Accuracy: 0.641000\n",
      "Epoch 36, CIFAR-10 Batch 1:  Loss:     0.0009, Validation Accuracy: 0.627600\n",
      "Epoch 37, CIFAR-10 Batch 1:  Loss:     0.0007, Validation Accuracy: 0.645800\n",
      "Epoch 38, CIFAR-10 Batch 1:  Loss:     0.0008, Validation Accuracy: 0.645800\n",
      "Epoch 39, CIFAR-10 Batch 1:  Loss:     0.0035, Validation Accuracy: 0.633000\n",
      "Epoch 40, CIFAR-10 Batch 1:  Loss:     0.0015, Validation Accuracy: 0.634400\n",
      "Epoch 41, CIFAR-10 Batch 1:  Loss:     0.0043, Validation Accuracy: 0.635200\n",
      "Epoch 42, CIFAR-10 Batch 1:  Loss:     0.0003, Validation Accuracy: 0.644800\n",
      "Epoch 43, CIFAR-10 Batch 1:  Loss:     0.0003, Validation Accuracy: 0.643400\n",
      "Epoch 44, CIFAR-10 Batch 1:  Loss:     0.0030, Validation Accuracy: 0.649400\n",
      "Epoch 45, CIFAR-10 Batch 1:  Loss:     0.0001, Validation Accuracy: 0.643400\n",
      "Epoch 46, CIFAR-10 Batch 1:  Loss:     0.0002, Validation Accuracy: 0.644000\n",
      "Epoch 47, CIFAR-10 Batch 1:  Loss:     0.0006, Validation Accuracy: 0.647200\n",
      "Epoch 48, CIFAR-10 Batch 1:  Loss:     0.0001, Validation Accuracy: 0.643000\n",
      "Epoch 49, CIFAR-10 Batch 1:  Loss:     0.0001, Validation Accuracy: 0.634400\n",
      "Epoch 50, CIFAR-10 Batch 1:  Loss:     0.0001, Validation Accuracy: 0.633800\n"
     ]
    }
   ],
   "source": [
    "\"\"\"\n",
    "DON'T MODIFY ANYTHING IN THIS CELL\n",
    "\"\"\"\n",
    "print('Checking the Training on a Single Batch...')\n",
    "with tf.Session() as sess:\n",
    "    # Initializing the variables\n",
    "    sess.run(tf.global_variables_initializer())\n",
    "    \n",
    "    # Training cycle\n",
    "    for epoch in range(epochs):\n",
    "        batch_i = 1\n",
    "        for batch_features, batch_labels in helper.load_preprocess_training_batch(batch_i, batch_size):\n",
    "            train_neural_network(sess, optimizer, keep_probability, batch_features, batch_labels)\n",
    "        print('Epoch {:>2}, CIFAR-10 Batch {}:  '.format(epoch + 1, batch_i), end='')\n",
    "        print_stats(sess, batch_features, batch_labels, cost, accuracy)"
   ]
  },
  {
   "cell_type": "markdown",
   "metadata": {
    "deletable": true,
    "editable": true
   },
   "source": [
    "### Fully Train the Model\n",
    "Now that you got a good accuracy with a single CIFAR-10 batch, try it with all five batches."
   ]
  },
  {
   "cell_type": "code",
   "execution_count": 11,
   "metadata": {
    "collapsed": false,
    "deletable": true,
    "editable": true
   },
   "outputs": [
    {
     "name": "stdout",
     "output_type": "stream",
     "text": [
      "Training...\n",
      "Epoch  1, CIFAR-10 Batch 1:  Loss:     2.0883, Validation Accuracy: 0.310800\n",
      "Epoch  1, CIFAR-10 Batch 2:  Loss:     1.6868, Validation Accuracy: 0.340400\n",
      "Epoch  1, CIFAR-10 Batch 3:  Loss:     1.3747, Validation Accuracy: 0.422400\n",
      "Epoch  1, CIFAR-10 Batch 4:  Loss:     1.5465, Validation Accuracy: 0.465800\n",
      "Epoch  1, CIFAR-10 Batch 5:  Loss:     1.5126, Validation Accuracy: 0.510800\n",
      "Epoch  2, CIFAR-10 Batch 1:  Loss:     1.2847, Validation Accuracy: 0.539800\n",
      "Epoch  2, CIFAR-10 Batch 2:  Loss:     1.2191, Validation Accuracy: 0.531000\n",
      "Epoch  2, CIFAR-10 Batch 3:  Loss:     1.0591, Validation Accuracy: 0.558800\n",
      "Epoch  2, CIFAR-10 Batch 4:  Loss:     1.0077, Validation Accuracy: 0.603400\n",
      "Epoch  2, CIFAR-10 Batch 5:  Loss:     1.1404, Validation Accuracy: 0.600400\n",
      "Epoch  3, CIFAR-10 Batch 1:  Loss:     0.9680, Validation Accuracy: 0.616000\n",
      "Epoch  3, CIFAR-10 Batch 2:  Loss:     0.9672, Validation Accuracy: 0.621600\n",
      "Epoch  3, CIFAR-10 Batch 3:  Loss:     0.8163, Validation Accuracy: 0.637000\n",
      "Epoch  3, CIFAR-10 Batch 4:  Loss:     0.7982, Validation Accuracy: 0.653400\n",
      "Epoch  3, CIFAR-10 Batch 5:  Loss:     0.8417, Validation Accuracy: 0.665600\n",
      "Epoch  4, CIFAR-10 Batch 1:  Loss:     0.7971, Validation Accuracy: 0.632800\n",
      "Epoch  4, CIFAR-10 Batch 2:  Loss:     0.8282, Validation Accuracy: 0.657400\n",
      "Epoch  4, CIFAR-10 Batch 3:  Loss:     0.5883, Validation Accuracy: 0.693000\n",
      "Epoch  4, CIFAR-10 Batch 4:  Loss:     0.6022, Validation Accuracy: 0.692800\n",
      "Epoch  4, CIFAR-10 Batch 5:  Loss:     0.6372, Validation Accuracy: 0.686600\n",
      "Epoch  5, CIFAR-10 Batch 1:  Loss:     0.6499, Validation Accuracy: 0.658800\n",
      "Epoch  5, CIFAR-10 Batch 2:  Loss:     0.5803, Validation Accuracy: 0.690600\n",
      "Epoch  5, CIFAR-10 Batch 3:  Loss:     0.4604, Validation Accuracy: 0.705000\n",
      "Epoch  5, CIFAR-10 Batch 4:  Loss:     0.4544, Validation Accuracy: 0.710800\n",
      "Epoch  5, CIFAR-10 Batch 5:  Loss:     0.5004, Validation Accuracy: 0.703800\n",
      "Epoch  6, CIFAR-10 Batch 1:  Loss:     0.4992, Validation Accuracy: 0.705000\n",
      "Epoch  6, CIFAR-10 Batch 2:  Loss:     0.4263, Validation Accuracy: 0.709800\n",
      "Epoch  6, CIFAR-10 Batch 3:  Loss:     0.4067, Validation Accuracy: 0.713600\n",
      "Epoch  6, CIFAR-10 Batch 4:  Loss:     0.4327, Validation Accuracy: 0.713000\n",
      "Epoch  6, CIFAR-10 Batch 5:  Loss:     0.3489, Validation Accuracy: 0.723400\n",
      "Epoch  7, CIFAR-10 Batch 1:  Loss:     0.4084, Validation Accuracy: 0.715200\n",
      "Epoch  7, CIFAR-10 Batch 2:  Loss:     0.3216, Validation Accuracy: 0.715200\n",
      "Epoch  7, CIFAR-10 Batch 3:  Loss:     0.3549, Validation Accuracy: 0.723000\n",
      "Epoch  7, CIFAR-10 Batch 4:  Loss:     0.3572, Validation Accuracy: 0.706000\n",
      "Epoch  7, CIFAR-10 Batch 5:  Loss:     0.3449, Validation Accuracy: 0.734000\n",
      "Epoch  8, CIFAR-10 Batch 1:  Loss:     0.3687, Validation Accuracy: 0.713400\n",
      "Epoch  8, CIFAR-10 Batch 2:  Loss:     0.3041, Validation Accuracy: 0.732600\n",
      "Epoch  8, CIFAR-10 Batch 3:  Loss:     0.2805, Validation Accuracy: 0.720600\n",
      "Epoch  8, CIFAR-10 Batch 4:  Loss:     0.2647, Validation Accuracy: 0.722600\n",
      "Epoch  8, CIFAR-10 Batch 5:  Loss:     0.3257, Validation Accuracy: 0.723400\n",
      "Epoch  9, CIFAR-10 Batch 1:  Loss:     0.3558, Validation Accuracy: 0.724400\n",
      "Epoch  9, CIFAR-10 Batch 2:  Loss:     0.2636, Validation Accuracy: 0.742800\n",
      "Epoch  9, CIFAR-10 Batch 3:  Loss:     0.2262, Validation Accuracy: 0.727800\n",
      "Epoch  9, CIFAR-10 Batch 4:  Loss:     0.2103, Validation Accuracy: 0.728400\n",
      "Epoch  9, CIFAR-10 Batch 5:  Loss:     0.2037, Validation Accuracy: 0.724200\n",
      "Epoch 10, CIFAR-10 Batch 1:  Loss:     0.2956, Validation Accuracy: 0.728600\n",
      "Epoch 10, CIFAR-10 Batch 2:  Loss:     0.2365, Validation Accuracy: 0.743000\n",
      "Epoch 10, CIFAR-10 Batch 3:  Loss:     0.1911, Validation Accuracy: 0.728600\n",
      "Epoch 10, CIFAR-10 Batch 4:  Loss:     0.2359, Validation Accuracy: 0.721200\n",
      "Epoch 10, CIFAR-10 Batch 5:  Loss:     0.1838, Validation Accuracy: 0.721800\n",
      "Epoch 11, CIFAR-10 Batch 1:  Loss:     0.2319, Validation Accuracy: 0.727800\n",
      "Epoch 11, CIFAR-10 Batch 2:  Loss:     0.1533, Validation Accuracy: 0.748400\n",
      "Epoch 11, CIFAR-10 Batch 3:  Loss:     0.1754, Validation Accuracy: 0.736200\n",
      "Epoch 11, CIFAR-10 Batch 4:  Loss:     0.1806, Validation Accuracy: 0.735800\n",
      "Epoch 11, CIFAR-10 Batch 5:  Loss:     0.1492, Validation Accuracy: 0.747000\n",
      "Epoch 12, CIFAR-10 Batch 1:  Loss:     0.1727, Validation Accuracy: 0.742000\n",
      "Epoch 12, CIFAR-10 Batch 2:  Loss:     0.1418, Validation Accuracy: 0.745000\n",
      "Epoch 12, CIFAR-10 Batch 3:  Loss:     0.1358, Validation Accuracy: 0.734600\n",
      "Epoch 12, CIFAR-10 Batch 4:  Loss:     0.1753, Validation Accuracy: 0.729600\n",
      "Epoch 12, CIFAR-10 Batch 5:  Loss:     0.1312, Validation Accuracy: 0.743200\n",
      "Epoch 13, CIFAR-10 Batch 1:  Loss:     0.1832, Validation Accuracy: 0.733600\n",
      "Epoch 13, CIFAR-10 Batch 2:  Loss:     0.1270, Validation Accuracy: 0.740400\n",
      "Epoch 13, CIFAR-10 Batch 3:  Loss:     0.1231, Validation Accuracy: 0.704800\n",
      "Epoch 13, CIFAR-10 Batch 4:  Loss:     0.1590, Validation Accuracy: 0.730000\n",
      "Epoch 13, CIFAR-10 Batch 5:  Loss:     0.1112, Validation Accuracy: 0.743000\n",
      "Epoch 14, CIFAR-10 Batch 1:  Loss:     0.1520, Validation Accuracy: 0.721800\n",
      "Epoch 14, CIFAR-10 Batch 2:  Loss:     0.1157, Validation Accuracy: 0.736400\n",
      "Epoch 14, CIFAR-10 Batch 3:  Loss:     0.1194, Validation Accuracy: 0.724000\n",
      "Epoch 14, CIFAR-10 Batch 4:  Loss:     0.1097, Validation Accuracy: 0.741000\n",
      "Epoch 14, CIFAR-10 Batch 5:  Loss:     0.0872, Validation Accuracy: 0.751600\n",
      "Epoch 15, CIFAR-10 Batch 1:  Loss:     0.1361, Validation Accuracy: 0.738000\n",
      "Epoch 15, CIFAR-10 Batch 2:  Loss:     0.1115, Validation Accuracy: 0.748200\n",
      "Epoch 15, CIFAR-10 Batch 3:  Loss:     0.0857, Validation Accuracy: 0.745600\n",
      "Epoch 15, CIFAR-10 Batch 4:  Loss:     0.1196, Validation Accuracy: 0.730400\n",
      "Epoch 15, CIFAR-10 Batch 5:  Loss:     0.0934, Validation Accuracy: 0.738000\n",
      "Epoch 16, CIFAR-10 Batch 1:  Loss:     0.1152, Validation Accuracy: 0.729800\n",
      "Epoch 16, CIFAR-10 Batch 2:  Loss:     0.0862, Validation Accuracy: 0.752800\n",
      "Epoch 16, CIFAR-10 Batch 3:  Loss:     0.0743, Validation Accuracy: 0.748000\n",
      "Epoch 16, CIFAR-10 Batch 4:  Loss:     0.0998, Validation Accuracy: 0.746800\n",
      "Epoch 16, CIFAR-10 Batch 5:  Loss:     0.0523, Validation Accuracy: 0.749200\n",
      "Epoch 17, CIFAR-10 Batch 1:  Loss:     0.0769, Validation Accuracy: 0.738400\n",
      "Epoch 17, CIFAR-10 Batch 2:  Loss:     0.0726, Validation Accuracy: 0.734400\n",
      "Epoch 17, CIFAR-10 Batch 3:  Loss:     0.0767, Validation Accuracy: 0.747200\n",
      "Epoch 17, CIFAR-10 Batch 4:  Loss:     0.1237, Validation Accuracy: 0.731200\n",
      "Epoch 17, CIFAR-10 Batch 5:  Loss:     0.0550, Validation Accuracy: 0.751200\n",
      "Epoch 18, CIFAR-10 Batch 1:  Loss:     0.1006, Validation Accuracy: 0.749000\n",
      "Epoch 18, CIFAR-10 Batch 2:  Loss:     0.0719, Validation Accuracy: 0.737200\n",
      "Epoch 18, CIFAR-10 Batch 3:  Loss:     0.0382, Validation Accuracy: 0.737200\n",
      "Epoch 18, CIFAR-10 Batch 4:  Loss:     0.0647, Validation Accuracy: 0.740400\n",
      "Epoch 18, CIFAR-10 Batch 5:  Loss:     0.0652, Validation Accuracy: 0.754800\n",
      "Epoch 19, CIFAR-10 Batch 1:  Loss:     0.1099, Validation Accuracy: 0.737800\n",
      "Epoch 19, CIFAR-10 Batch 2:  Loss:     0.0675, Validation Accuracy: 0.738800\n",
      "Epoch 19, CIFAR-10 Batch 3:  Loss:     0.0479, Validation Accuracy: 0.743200\n",
      "Epoch 19, CIFAR-10 Batch 4:  Loss:     0.0569, Validation Accuracy: 0.744800\n",
      "Epoch 19, CIFAR-10 Batch 5:  Loss:     0.0415, Validation Accuracy: 0.737800\n",
      "Epoch 20, CIFAR-10 Batch 1:  Loss:     0.0626, Validation Accuracy: 0.739200\n",
      "Epoch 20, CIFAR-10 Batch 2:  Loss:     0.0561, Validation Accuracy: 0.748200\n",
      "Epoch 20, CIFAR-10 Batch 3:  Loss:     0.0566, Validation Accuracy: 0.737400\n",
      "Epoch 20, CIFAR-10 Batch 4:  Loss:     0.0963, Validation Accuracy: 0.728600\n",
      "Epoch 20, CIFAR-10 Batch 5:  Loss:     0.0227, Validation Accuracy: 0.743000\n",
      "Epoch 21, CIFAR-10 Batch 1:  Loss:     0.1005, Validation Accuracy: 0.747600\n",
      "Epoch 21, CIFAR-10 Batch 2:  Loss:     0.0913, Validation Accuracy: 0.739000\n",
      "Epoch 21, CIFAR-10 Batch 3:  Loss:     0.0763, Validation Accuracy: 0.740400\n",
      "Epoch 21, CIFAR-10 Batch 4:  Loss:     0.0544, Validation Accuracy: 0.737400\n",
      "Epoch 21, CIFAR-10 Batch 5:  Loss:     0.0249, Validation Accuracy: 0.740600\n",
      "Epoch 22, CIFAR-10 Batch 1:  Loss:     0.0739, Validation Accuracy: 0.746600\n",
      "Epoch 22, CIFAR-10 Batch 2:  Loss:     0.0353, Validation Accuracy: 0.743000\n",
      "Epoch 22, CIFAR-10 Batch 3:  Loss:     0.0314, Validation Accuracy: 0.745000\n",
      "Epoch 22, CIFAR-10 Batch 4:  Loss:     0.0456, Validation Accuracy: 0.746600\n",
      "Epoch 22, CIFAR-10 Batch 5:  Loss:     0.0317, Validation Accuracy: 0.732200\n",
      "Epoch 23, CIFAR-10 Batch 1:  Loss:     0.0757, Validation Accuracy: 0.745200\n",
      "Epoch 23, CIFAR-10 Batch 2:  Loss:     0.0391, Validation Accuracy: 0.746600\n",
      "Epoch 23, CIFAR-10 Batch 3:  Loss:     0.0279, Validation Accuracy: 0.744600\n",
      "Epoch 23, CIFAR-10 Batch 4:  Loss:     0.0285, Validation Accuracy: 0.745200\n",
      "Epoch 23, CIFAR-10 Batch 5:  Loss:     0.0346, Validation Accuracy: 0.742000\n",
      "Epoch 24, CIFAR-10 Batch 1:  Loss:     0.0686, Validation Accuracy: 0.744800\n",
      "Epoch 24, CIFAR-10 Batch 2:  Loss:     0.0336, Validation Accuracy: 0.739400\n",
      "Epoch 24, CIFAR-10 Batch 3:  Loss:     0.0363, Validation Accuracy: 0.748400\n",
      "Epoch 24, CIFAR-10 Batch 4:  Loss:     0.0279, Validation Accuracy: 0.739600\n",
      "Epoch 24, CIFAR-10 Batch 5:  Loss:     0.0465, Validation Accuracy: 0.744200\n",
      "Epoch 25, CIFAR-10 Batch 1:  Loss:     0.0690, Validation Accuracy: 0.750200\n",
      "Epoch 25, CIFAR-10 Batch 2:  Loss:     0.0396, Validation Accuracy: 0.751600\n",
      "Epoch 25, CIFAR-10 Batch 3:  Loss:     0.0358, Validation Accuracy: 0.739800\n",
      "Epoch 25, CIFAR-10 Batch 4:  Loss:     0.0235, Validation Accuracy: 0.744000\n",
      "Epoch 25, CIFAR-10 Batch 5:  Loss:     0.0161, Validation Accuracy: 0.751200\n",
      "Epoch 26, CIFAR-10 Batch 1:  Loss:     0.0892, Validation Accuracy: 0.736800\n",
      "Epoch 26, CIFAR-10 Batch 2:  Loss:     0.0285, Validation Accuracy: 0.752200\n",
      "Epoch 26, CIFAR-10 Batch 3:  Loss:     0.0240, Validation Accuracy: 0.752800\n",
      "Epoch 26, CIFAR-10 Batch 4:  Loss:     0.0265, Validation Accuracy: 0.745800\n",
      "Epoch 26, CIFAR-10 Batch 5:  Loss:     0.0103, Validation Accuracy: 0.750000\n",
      "Epoch 27, CIFAR-10 Batch 1:  Loss:     0.0454, Validation Accuracy: 0.737800\n",
      "Epoch 27, CIFAR-10 Batch 2:  Loss:     0.0310, Validation Accuracy: 0.755400\n",
      "Epoch 27, CIFAR-10 Batch 3:  Loss:     0.0321, Validation Accuracy: 0.745600\n",
      "Epoch 27, CIFAR-10 Batch 4:  Loss:     0.0271, Validation Accuracy: 0.747000\n",
      "Epoch 27, CIFAR-10 Batch 5:  Loss:     0.0178, Validation Accuracy: 0.740200\n",
      "Epoch 28, CIFAR-10 Batch 1:  Loss:     0.1004, Validation Accuracy: 0.741800\n",
      "Epoch 28, CIFAR-10 Batch 2:  Loss:     0.0283, Validation Accuracy: 0.756400\n",
      "Epoch 28, CIFAR-10 Batch 3:  Loss:     0.0279, Validation Accuracy: 0.745000\n",
      "Epoch 28, CIFAR-10 Batch 4:  Loss:     0.0307, Validation Accuracy: 0.737600\n",
      "Epoch 28, CIFAR-10 Batch 5:  Loss:     0.0162, Validation Accuracy: 0.740600\n",
      "Epoch 29, CIFAR-10 Batch 1:  Loss:     0.0373, Validation Accuracy: 0.745800\n",
      "Epoch 29, CIFAR-10 Batch 2:  Loss:     0.0305, Validation Accuracy: 0.742400\n",
      "Epoch 29, CIFAR-10 Batch 3:  Loss:     0.0190, Validation Accuracy: 0.749600\n",
      "Epoch 29, CIFAR-10 Batch 4:  Loss:     0.0213, Validation Accuracy: 0.730800\n",
      "Epoch 29, CIFAR-10 Batch 5:  Loss:     0.0112, Validation Accuracy: 0.736600\n",
      "Epoch 30, CIFAR-10 Batch 1:  Loss:     0.0377, Validation Accuracy: 0.749200\n",
      "Epoch 30, CIFAR-10 Batch 2:  Loss:     0.0324, Validation Accuracy: 0.748000\n",
      "Epoch 30, CIFAR-10 Batch 3:  Loss:     0.0267, Validation Accuracy: 0.746800\n",
      "Epoch 30, CIFAR-10 Batch 4:  Loss:     0.0324, Validation Accuracy: 0.743800\n",
      "Epoch 30, CIFAR-10 Batch 5:  Loss:     0.0134, Validation Accuracy: 0.751200\n",
      "Epoch 31, CIFAR-10 Batch 1:  Loss:     0.0277, Validation Accuracy: 0.747200\n",
      "Epoch 31, CIFAR-10 Batch 2:  Loss:     0.0193, Validation Accuracy: 0.751400\n",
      "Epoch 31, CIFAR-10 Batch 3:  Loss:     0.0216, Validation Accuracy: 0.748000\n",
      "Epoch 31, CIFAR-10 Batch 4:  Loss:     0.0642, Validation Accuracy: 0.740600\n",
      "Epoch 31, CIFAR-10 Batch 5:  Loss:     0.0113, Validation Accuracy: 0.741800\n",
      "Epoch 32, CIFAR-10 Batch 1:  Loss:     0.0210, Validation Accuracy: 0.745200\n",
      "Epoch 32, CIFAR-10 Batch 2:  Loss:     0.0174, Validation Accuracy: 0.735400\n",
      "Epoch 32, CIFAR-10 Batch 3:  Loss:     0.0177, Validation Accuracy: 0.743400\n",
      "Epoch 32, CIFAR-10 Batch 4:  Loss:     0.0138, Validation Accuracy: 0.752200\n",
      "Epoch 32, CIFAR-10 Batch 5:  Loss:     0.0071, Validation Accuracy: 0.745400\n",
      "Epoch 33, CIFAR-10 Batch 1:  Loss:     0.0166, Validation Accuracy: 0.749800\n",
      "Epoch 33, CIFAR-10 Batch 2:  Loss:     0.0251, Validation Accuracy: 0.743400\n",
      "Epoch 33, CIFAR-10 Batch 3:  Loss:     0.0130, Validation Accuracy: 0.749000\n",
      "Epoch 33, CIFAR-10 Batch 4:  Loss:     0.0137, Validation Accuracy: 0.752200\n",
      "Epoch 33, CIFAR-10 Batch 5:  Loss:     0.0066, Validation Accuracy: 0.751800\n",
      "Epoch 34, CIFAR-10 Batch 1:  Loss:     0.0296, Validation Accuracy: 0.757200\n",
      "Epoch 34, CIFAR-10 Batch 2:  Loss:     0.0138, Validation Accuracy: 0.753600\n",
      "Epoch 34, CIFAR-10 Batch 3:  Loss:     0.0129, Validation Accuracy: 0.751600\n",
      "Epoch 34, CIFAR-10 Batch 4:  Loss:     0.0123, Validation Accuracy: 0.746400\n",
      "Epoch 34, CIFAR-10 Batch 5:  Loss:     0.0046, Validation Accuracy: 0.750400\n",
      "Epoch 35, CIFAR-10 Batch 1:  Loss:     0.0126, Validation Accuracy: 0.743200\n",
      "Epoch 35, CIFAR-10 Batch 2:  Loss:     0.0200, Validation Accuracy: 0.740000\n",
      "Epoch 35, CIFAR-10 Batch 3:  Loss:     0.0317, Validation Accuracy: 0.753000\n",
      "Epoch 35, CIFAR-10 Batch 4:  Loss:     0.0114, Validation Accuracy: 0.756600\n",
      "Epoch 35, CIFAR-10 Batch 5:  Loss:     0.0056, Validation Accuracy: 0.747800\n",
      "Epoch 36, CIFAR-10 Batch 1:  Loss:     0.0128, Validation Accuracy: 0.740800\n",
      "Epoch 36, CIFAR-10 Batch 2:  Loss:     0.0105, Validation Accuracy: 0.736600\n",
      "Epoch 36, CIFAR-10 Batch 3:  Loss:     0.0091, Validation Accuracy: 0.746200\n",
      "Epoch 36, CIFAR-10 Batch 4:  Loss:     0.0282, Validation Accuracy: 0.738000\n",
      "Epoch 36, CIFAR-10 Batch 5:  Loss:     0.0055, Validation Accuracy: 0.747600\n",
      "Epoch 37, CIFAR-10 Batch 1:  Loss:     0.0216, Validation Accuracy: 0.742600\n",
      "Epoch 37, CIFAR-10 Batch 2:  Loss:     0.0203, Validation Accuracy: 0.745600\n",
      "Epoch 37, CIFAR-10 Batch 3:  Loss:     0.0326, Validation Accuracy: 0.738800\n",
      "Epoch 37, CIFAR-10 Batch 4:  Loss:     0.0169, Validation Accuracy: 0.747600\n",
      "Epoch 37, CIFAR-10 Batch 5:  Loss:     0.0119, Validation Accuracy: 0.746200\n",
      "Epoch 38, CIFAR-10 Batch 1:  Loss:     0.0270, Validation Accuracy: 0.744800\n",
      "Epoch 38, CIFAR-10 Batch 2:  Loss:     0.0120, Validation Accuracy: 0.754800\n",
      "Epoch 38, CIFAR-10 Batch 3:  Loss:     0.0047, Validation Accuracy: 0.745800\n",
      "Epoch 38, CIFAR-10 Batch 4:  Loss:     0.0168, Validation Accuracy: 0.739600\n",
      "Epoch 38, CIFAR-10 Batch 5:  Loss:     0.0100, Validation Accuracy: 0.754400\n",
      "Epoch 39, CIFAR-10 Batch 1:  Loss:     0.0252, Validation Accuracy: 0.745200\n",
      "Epoch 39, CIFAR-10 Batch 2:  Loss:     0.0167, Validation Accuracy: 0.743400\n",
      "Epoch 39, CIFAR-10 Batch 3:  Loss:     0.0097, Validation Accuracy: 0.749200\n",
      "Epoch 39, CIFAR-10 Batch 4:  Loss:     0.0236, Validation Accuracy: 0.745600\n",
      "Epoch 39, CIFAR-10 Batch 5:  Loss:     0.0099, Validation Accuracy: 0.753400\n",
      "Epoch 40, CIFAR-10 Batch 1:  Loss:     0.0191, Validation Accuracy: 0.746600\n",
      "Epoch 40, CIFAR-10 Batch 2:  Loss:     0.0092, Validation Accuracy: 0.748400\n",
      "Epoch 40, CIFAR-10 Batch 3:  Loss:     0.0083, Validation Accuracy: 0.745800\n",
      "Epoch 40, CIFAR-10 Batch 4:  Loss:     0.0188, Validation Accuracy: 0.753000\n",
      "Epoch 40, CIFAR-10 Batch 5:  Loss:     0.0066, Validation Accuracy: 0.747200\n",
      "Epoch 41, CIFAR-10 Batch 1:  Loss:     0.0178, Validation Accuracy: 0.742200\n",
      "Epoch 41, CIFAR-10 Batch 2:  Loss:     0.0191, Validation Accuracy: 0.744400\n",
      "Epoch 41, CIFAR-10 Batch 3:  Loss:     0.0102, Validation Accuracy: 0.734200\n",
      "Epoch 41, CIFAR-10 Batch 4:  Loss:     0.0065, Validation Accuracy: 0.745400\n",
      "Epoch 41, CIFAR-10 Batch 5:  Loss:     0.0038, Validation Accuracy: 0.744600\n",
      "Epoch 42, CIFAR-10 Batch 1:  Loss:     0.0174, Validation Accuracy: 0.726200\n",
      "Epoch 42, CIFAR-10 Batch 2:  Loss:     0.0065, Validation Accuracy: 0.748800\n",
      "Epoch 42, CIFAR-10 Batch 3:  Loss:     0.0122, Validation Accuracy: 0.741000\n",
      "Epoch 42, CIFAR-10 Batch 4:  Loss:     0.0111, Validation Accuracy: 0.747800\n",
      "Epoch 42, CIFAR-10 Batch 5:  Loss:     0.0053, Validation Accuracy: 0.750600\n",
      "Epoch 43, CIFAR-10 Batch 1:  Loss:     0.0102, Validation Accuracy: 0.746400\n",
      "Epoch 43, CIFAR-10 Batch 2:  Loss:     0.0200, Validation Accuracy: 0.730200\n",
      "Epoch 43, CIFAR-10 Batch 3:  Loss:     0.0033, Validation Accuracy: 0.737400\n",
      "Epoch 43, CIFAR-10 Batch 4:  Loss:     0.0115, Validation Accuracy: 0.744000\n",
      "Epoch 43, CIFAR-10 Batch 5:  Loss:     0.0038, Validation Accuracy: 0.749800\n",
      "Epoch 44, CIFAR-10 Batch 1:  Loss:     0.0054, Validation Accuracy: 0.741200\n",
      "Epoch 44, CIFAR-10 Batch 2:  Loss:     0.0161, Validation Accuracy: 0.742200\n",
      "Epoch 44, CIFAR-10 Batch 3:  Loss:     0.0111, Validation Accuracy: 0.745400\n",
      "Epoch 44, CIFAR-10 Batch 4:  Loss:     0.0036, Validation Accuracy: 0.748200\n",
      "Epoch 44, CIFAR-10 Batch 5:  Loss:     0.0024, Validation Accuracy: 0.757200\n",
      "Epoch 45, CIFAR-10 Batch 1:  Loss:     0.0128, Validation Accuracy: 0.739000\n",
      "Epoch 45, CIFAR-10 Batch 2:  Loss:     0.0097, Validation Accuracy: 0.757200\n",
      "Epoch 45, CIFAR-10 Batch 3:  Loss:     0.0084, Validation Accuracy: 0.755000\n",
      "Epoch 45, CIFAR-10 Batch 4:  Loss:     0.0038, Validation Accuracy: 0.746000\n",
      "Epoch 45, CIFAR-10 Batch 5:  Loss:     0.0119, Validation Accuracy: 0.742800\n",
      "Epoch 46, CIFAR-10 Batch 1:  Loss:     0.0084, Validation Accuracy: 0.730800\n",
      "Epoch 46, CIFAR-10 Batch 2:  Loss:     0.0158, Validation Accuracy: 0.752000\n",
      "Epoch 46, CIFAR-10 Batch 3:  Loss:     0.0088, Validation Accuracy: 0.737800\n",
      "Epoch 46, CIFAR-10 Batch 4:  Loss:     0.0122, Validation Accuracy: 0.746200\n",
      "Epoch 46, CIFAR-10 Batch 5:  Loss:     0.0045, Validation Accuracy: 0.757000\n",
      "Epoch 47, CIFAR-10 Batch 1:  Loss:     0.0062, Validation Accuracy: 0.745800\n",
      "Epoch 47, CIFAR-10 Batch 2:  Loss:     0.0111, Validation Accuracy: 0.750400\n",
      "Epoch 47, CIFAR-10 Batch 3:  Loss:     0.0078, Validation Accuracy: 0.745000\n",
      "Epoch 47, CIFAR-10 Batch 4:  Loss:     0.0098, Validation Accuracy: 0.750200\n",
      "Epoch 47, CIFAR-10 Batch 5:  Loss:     0.0054, Validation Accuracy: 0.747400\n",
      "Epoch 48, CIFAR-10 Batch 1:  Loss:     0.0108, Validation Accuracy: 0.739000\n",
      "Epoch 48, CIFAR-10 Batch 2:  Loss:     0.0106, Validation Accuracy: 0.754200\n",
      "Epoch 48, CIFAR-10 Batch 3:  Loss:     0.0037, Validation Accuracy: 0.754400\n",
      "Epoch 48, CIFAR-10 Batch 4:  Loss:     0.0047, Validation Accuracy: 0.756200\n",
      "Epoch 48, CIFAR-10 Batch 5:  Loss:     0.0066, Validation Accuracy: 0.743400\n",
      "Epoch 49, CIFAR-10 Batch 1:  Loss:     0.0103, Validation Accuracy: 0.742800\n",
      "Epoch 49, CIFAR-10 Batch 2:  Loss:     0.0025, Validation Accuracy: 0.743200\n",
      "Epoch 49, CIFAR-10 Batch 3:  Loss:     0.0132, Validation Accuracy: 0.743400\n",
      "Epoch 49, CIFAR-10 Batch 4:  Loss:     0.0089, Validation Accuracy: 0.726000\n",
      "Epoch 49, CIFAR-10 Batch 5:  Loss:     0.0072, Validation Accuracy: 0.734200\n",
      "Epoch 50, CIFAR-10 Batch 1:  Loss:     0.0065, Validation Accuracy: 0.747200\n",
      "Epoch 50, CIFAR-10 Batch 2:  Loss:     0.0052, Validation Accuracy: 0.752000\n",
      "Epoch 50, CIFAR-10 Batch 3:  Loss:     0.0105, Validation Accuracy: 0.749200\n",
      "Epoch 50, CIFAR-10 Batch 4:  Loss:     0.0045, Validation Accuracy: 0.739400\n",
      "Epoch 50, CIFAR-10 Batch 5:  Loss:     0.0027, Validation Accuracy: 0.752200\n"
     ]
    }
   ],
   "source": [
    "\"\"\"\n",
    "DON'T MODIFY ANYTHING IN THIS CELL\n",
    "\"\"\"\n",
    "save_model_path = './image_classification'\n",
    "\n",
    "print('Training...')\n",
    "with tf.Session() as sess:\n",
    "    # Initializing the variables\n",
    "    sess.run(tf.global_variables_initializer())\n",
    "    \n",
    "    # Training cycle\n",
    "    for epoch in range(epochs):\n",
    "        # Loop over all batches\n",
    "        n_batches = 5\n",
    "        for batch_i in range(1, n_batches + 1):\n",
    "            for batch_features, batch_labels in helper.load_preprocess_training_batch(batch_i, batch_size):\n",
    "                train_neural_network(sess, optimizer, keep_probability, batch_features, batch_labels)\n",
    "            print('Epoch {:>2}, CIFAR-10 Batch {}:  '.format(epoch + 1, batch_i), end='')\n",
    "            print_stats(sess, batch_features, batch_labels, cost, accuracy)\n",
    "            \n",
    "    # Save Model\n",
    "    saver = tf.train.Saver()\n",
    "    save_path = saver.save(sess, save_model_path)"
   ]
  },
  {
   "cell_type": "markdown",
   "metadata": {
    "deletable": true,
    "editable": true
   },
   "source": [
    "# Checkpoint\n",
    "The model has been saved to disk.\n",
    "## Test Model\n",
    "Test your model against the test dataset.  This will be your final accuracy. You should have an accuracy greater than 50%. If you don't, keep tweaking the model architecture and parameters."
   ]
  },
  {
   "cell_type": "code",
   "execution_count": 12,
   "metadata": {
    "collapsed": false,
    "deletable": true,
    "editable": true
   },
   "outputs": [
    {
     "name": "stdout",
     "output_type": "stream",
     "text": [
      "Testing Accuracy: 0.7517800632911392\n",
      "\n"
     ]
    },
    {
     "data": {
      "image/png": "[encoded data removed]",
      "text/plain": [
       "<matplotlib.figure.Figure at 0x7ff3e43c2f60>"
      ]
     },
     "metadata": {
      "image/png": {
       "height": 319,
       "width": 355
      }
     },
     "output_type": "display_data"
    }
   ],
   "source": [
    "\"\"\"\n",
    "DON'T MODIFY ANYTHING IN THIS CELL\n",
    "\"\"\"\n",
    "%matplotlib inline\n",
    "%config InlineBackend.figure_format = 'retina'\n",
    "\n",
    "import tensorflow as tf\n",
    "import pickle\n",
    "import helper\n",
    "import random\n",
    "\n",
    "# Set batch size if not already set\n",
    "try:\n",
    "    if batch_size:\n",
    "        pass\n",
    "except NameError:\n",
    "    batch_size = 64\n",
    "\n",
    "save_model_path = './image_classification'\n",
    "n_samples = 4\n",
    "top_n_predictions = 3\n",
    "\n",
    "def test_model():\n",
    "    \"\"\"\n",
    "    Test the saved model against the test dataset\n",
    "    \"\"\"\n",
    "\n",
    "    test_features, test_labels = pickle.load(open('preprocess_training.p', mode='rb'))\n",
    "    loaded_graph = tf.Graph()\n",
    "\n",
    "    with tf.Session(graph=loaded_graph) as sess:\n",
    "        # Load model\n",
    "        loader = tf.train.import_meta_graph(save_model_path + '.meta')\n",
    "        loader.restore(sess, save_model_path)\n",
    "\n",
    "        # Get Tensors from loaded model\n",
    "        loaded_x = loaded_graph.get_tensor_by_name('x:0')\n",
    "        loaded_y = loaded_graph.get_tensor_by_name('y:0')\n",
    "        loaded_keep_prob = loaded_graph.get_tensor_by_name('keep_prob:0')\n",
    "        loaded_logits = loaded_graph.get_tensor_by_name('logits:0')\n",
    "        loaded_acc = loaded_graph.get_tensor_by_name('accuracy:0')\n",
    "        \n",
    "        # Get accuracy in batches for memory limitations\n",
    "        test_batch_acc_total = 0\n",
    "        test_batch_count = 0\n",
    "        \n",
    "        for train_feature_batch, train_label_batch in helper.batch_features_labels(test_features, test_labels, batch_size):\n",
    "            test_batch_acc_total += sess.run(\n",
    "                loaded_acc,\n",
    "                feed_dict={loaded_x: train_feature_batch, loaded_y: train_label_batch, loaded_keep_prob: 1.0})\n",
    "            test_batch_count += 1\n",
    "\n",
    "        print('Testing Accuracy: {}\\n'.format(test_batch_acc_total/test_batch_count))\n",
    "\n",
    "        # Print Random Samples\n",
    "        random_test_features, random_test_labels = tuple(zip(*random.sample(list(zip(test_features, test_labels)), n_samples)))\n",
    "        random_test_predictions = sess.run(\n",
    "            tf.nn.top_k(tf.nn.softmax(loaded_logits), top_n_predictions),\n",
    "            feed_dict={loaded_x: random_test_features, loaded_y: random_test_labels, loaded_keep_prob: 1.0})\n",
    "        helper.display_image_predictions(random_test_features, random_test_labels, random_test_predictions)\n",
    "\n",
    "\n",
    "test_model()"
   ]
  },
  {
   "cell_type": "markdown",
   "metadata": {
    "deletable": true,
    "editable": true
   },
   "source": [
    "## Why 50-70% Accuracy?\n",
    "You might be wondering why you can't get an accuracy any higher. First things first, 50% isn't bad for a simple CNN.  Pure guessing would get you 10% accuracy. However, you might notice people are getting scores [well above 70%](http://rodrigob.github.io/are_we_there_yet/build/classification_datasets_results.html#43494641522d3130).  That's because we haven't taught you all there is to know about neural networks. We still need to cover a few more techniques.\n",
    "## Submitting This Project\n",
    "When submitting this project, make sure to run all the cells before saving the notebook.  Save the notebook file as \"dlnd_image_classification.ipynb\" and save it as a HTML file under \"File\" -> \"Download as\".  Include the \"helper.py\" and \"problem_unittests.py\" files in your submission."
   ]
  }
 ],
 "metadata": {
  "kernelspec": {
   "display_name": "Python 3",
   "language": "python",
   "name": "python3"
  },
  "language_info": {
   "codemirror_mode": {
    "name": "ipython",
    "version": 3
   },
   "file_extension": ".py",
   "mimetype": "text/x-python",
   "name": "python",
   "nbconvert_exporter": "python",
   "pygments_lexer": "ipython3",
   "version": "3.5.2"
  },
  "widgets": {
   "state": {},
   "version": "1.1.2"
  }
 },
 "nbformat": 4,
 "nbformat_minor": 0
}
